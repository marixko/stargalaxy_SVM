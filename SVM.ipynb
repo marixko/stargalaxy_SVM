{
 "cells": [
  {
   "cell_type": "code",
   "execution_count": null,
   "metadata": {
    "collapsed": true
   },
   "outputs": [],
   "source": [
    "import numpy as np\n",
    "import pandas as pd\n",
    "import seaborn as sns\n",
    "import itertools\n",
    "import matplotlib.pyplot as plt\n",
    "import matplotlib as mpl\n",
    "import matplotlib.gridspec as gridspec\n",
    "from mlxtend.plotting import plot_decision_regions\n",
    "from sklearn import metrics\n",
    "from sklearn.svm import SVC\n",
    "from sklearn.metrics import confusion_matrix\n",
    "from sklearn.model_selection import train_test_split\n",
    "\n",
    "pd.set_option(\"display.max_rows\", None)\n",
    "pd.set_option(\"display.max_columns\", None)"
   ]
  },
  {
   "cell_type": "code",
   "execution_count": null,
   "outputs": [],
   "source": [
    "# Modified from: https://scikit-learn.org/stable/auto_examples/model_selection/plot_confusion_matrix.html\n",
    "def plot_confusion_matrix(cm, classes,\n",
    "                          normalize=False,\n",
    "                          title='Confusion matrix',\n",
    "                          cmap=plt.cm.Blues):\n",
    "    \"\"\"\n",
    "    This function prints and plots the confusion matrix.\n",
    "    Normalization can be applied by setting `normalize=True`.\n",
    "    \"\"\"\n",
    "    if normalize:\n",
    "        cm = cm.astype('float') / cm.sum(axis=1)[:, np.newaxis]\n",
    "        print(\"Normalized confusion matrix\")\n",
    "    else:\n",
    "        print('Confusion matrix, without normalization')\n",
    "\n",
    "    plt.imshow(cm, interpolation='nearest', cmap=cmap)\n",
    "    plt.title(title)\n",
    "    plt.colorbar()\n",
    "    tick_marks = np.arange(len(classes))\n",
    "    plt.xticks(tick_marks, classes, rotation=45)\n",
    "    plt.yticks(tick_marks, classes)\n",
    "\n",
    "    fmt = '.3f' if normalize else 'd'\n",
    "    thresh = cm.max() / 2.\n",
    "    for i, j in itertools.product(range(cm.shape[0]), range(cm.shape[1])):\n",
    "        plt.text(j, i, format(cm[i, j], fmt),\n",
    "                 horizontalalignment=\"center\",\n",
    "                 color=\"white\" if cm[i, j] > thresh else \"black\")\n",
    "\n",
    "    plt.ylabel('True label')\n",
    "    plt.xlabel('Predicted label')\n",
    "    plt.tight_layout()"
   ],
   "metadata": {
    "collapsed": false,
    "pycharm": {
     "name": "#%%\n"
    }
   }
  },
  {
   "cell_type": "code",
   "execution_count": null,
   "outputs": [],
   "source": [
    "url = 'https://raw.githubusercontent.com/marixko/'\n",
    "file = 'tutorial_classifiers/master/tutorial_data.txt'\n",
    "df = pd.read_csv(url+file, delim_whitespace=True, low_memory=False)"
   ],
   "metadata": {
    "collapsed": false,
    "pycharm": {
     "name": "#%%\n"
    }
   }
  },
  {
   "cell_type": "code",
   "execution_count": null,
   "outputs": [],
   "source": [
    "dim15 = ['FWHM_n', 'A', 'B', 'KrRadDet', 'uJAVA_auto',\n",
    "       'F378_auto', 'F395_auto', 'F410_auto', 'g_auto', 'F515_auto',\n",
    "       'r_auto', 'F660_auto', 'i_auto', 'F861_auto', 'z_auto']\n",
    "\n",
    "dim2 = ['FWHM_n','A']"
   ],
   "metadata": {
    "collapsed": false,
    "pycharm": {
     "name": "#%%\n"
    }
   }
  },
  {
   "cell_type": "code",
   "execution_count": null,
   "outputs": [],
   "source": [
    "label = pd.DataFrame(df['class'])\n",
    "\n",
    "# Transform strings into numbered labels\n",
    "label.loc[label['class'] == 'STAR', 'class'] = 0\n",
    "label.loc[label['class'] == 'GALAXY', 'class'] = 1\n",
    "\n",
    "# Use train_test_split() to sample your training and testing sets\n",
    "# Let's fix a random_state=42 in order to have the same sets\n",
    "# on each run. Stratify parameter guarantees that the original\n",
    "# proportion of the classes is maintained\n",
    "\n",
    "X_train, X_test, y_train, y_test = train_test_split(df[dim15], label,\n",
    "                                                    test_size=0.3,\n",
    "                                                    random_state=42,\n",
    "                                                   stratify = label)"
   ],
   "metadata": {
    "collapsed": false,
    "pycharm": {
     "name": "#%%\n"
    }
   }
  },
  {
   "cell_type": "code",
   "execution_count": null,
   "outputs": [],
   "source": [
    "# Train your model:\n",
    "clf2 = SVC(kernel= 'linear')\n",
    "clf2.fit(X_train[dim2], y_train.values.ravel())\n",
    "\n",
    "# Make the predictions:\n",
    "y_pred2 = clf2.predict(X_test[dim2])\n",
    "\n",
    "# Plot confusion matrix:\n",
    "matrix = confusion_matrix(y_test['class'], y_pred2)\n",
    "fig = plot_confusion_matrix(matrix, classes=['STAR','GALAXY'])\n",
    "plt.show()"
   ],
   "metadata": {
    "collapsed": false,
    "pycharm": {
     "name": "#%%\n"
    }
   }
  },
  {
   "cell_type": "code",
   "execution_count": null,
   "outputs": [],
   "source": [
    "plt.style.use('seaborn-pastel')\n",
    "fig = plt.figure(figsize=(18,6))\n",
    "gs = gridspec.GridSpec(1, 2)\n",
    "ax = plt.subplot(gs[0,0])\n",
    "sns.scatterplot(x=X_train.FWHM_n, y=X_train.A,\n",
    "                    hue=y_train['class'])\n",
    "\n",
    "#Calculate margin (from https://scikit-learn.org/stable/auto_examples/svm/plot_svm_margin.html)\n",
    "w = clf2.coef_[0]\n",
    "a = -w[0] / w[1]\n",
    "xx = np.linspace(-5, 5)\n",
    "yy = a * xx - (clf2.intercept_[0]) / w[1]\n",
    "margin = 1 / np.sqrt(np.sum(clf2.coef_ ** 2))\n",
    "yy_down = yy - np.sqrt(1 + a ** 2) * margin\n",
    "yy_up = yy + np.sqrt(1 + a ** 2) * margin\n",
    "\n",
    "#Plot margin\n",
    "plt.plot(xx, yy, 'k-')\n",
    "plt.plot(xx, yy_down, 'k--')\n",
    "plt.plot(xx, yy_up, 'k--')\n",
    "plt.xlabel('FWHM_n')\n",
    "plt.ylabel('A')\n",
    "plt.xlim(0,8)\n",
    "plt.ylim(0.8, 10)\n",
    "\n",
    "plt.title('Training set')\n",
    "\n",
    "\n",
    "ax = plt.subplot(gs[0,1])\n",
    "sns.scatterplot(x=X_test.FWHM_n , y=X_test.A, hue=y_test['class'])\n",
    "plt.plot(xx, yy, 'k-')\n",
    "plt.plot(xx, yy_down, 'k--')\n",
    "plt.plot(xx, yy_up, 'k--')\n",
    "plt.xlim(0,8)\n",
    "plt.ylim(0.8, 10)\n",
    "plt.title('Testing set')\n",
    "\n",
    "plt.show()"
   ],
   "metadata": {
    "collapsed": false,
    "pycharm": {
     "name": "#%%\n"
    }
   }
  },
  {
   "cell_type": "code",
   "execution_count": null,
   "outputs": [],
   "source": [
    "fig = plt.figure(figsize=(9,7))\n",
    "sns.scatterplot(x=X_train[dim2].FWHM_n, y=X_train[dim2].A,\n",
    "                    hue=y_train['class'])\n",
    "\n",
    "plt.scatter(clf2.support_vectors_[:, 0],\n",
    "clf2.support_vectors_[:, 1], s=8,\n",
    "zorder=10,color='red', marker='+')\n",
    "\n",
    "plt.xlim(0.9,2)\n",
    "plt.ylim(0.8,5)\n",
    "plt.plot(xx, yy, 'k-')\n",
    "plt.plot(xx, yy_down, 'k--')\n",
    "plt.plot(xx, yy_up, 'k--')\n",
    "plt.title('Support vectors (Training set)')"
   ],
   "metadata": {
    "collapsed": false,
    "pycharm": {
     "name": "#%%\n"
    }
   }
  },
  {
   "cell_type": "code",
   "execution_count": null,
   "outputs": [],
   "source": [
    "# Train your model:\n",
    "clf15 = SVC(kernel= 'linear')\n",
    "clf15.fit(X_train, y_train.values.ravel())\n",
    "\n",
    "# Make predictions:\n",
    "y_pred = clf15.predict(X_test)\n",
    "\n",
    "# Plot confusion matrix:\n",
    "matrix = confusion_matrix(y_test['class'], y_pred)\n",
    "fig = plot_confusion_matrix(matrix, classes=['STAR','GALAXY'])\n",
    "plt.show()"
   ],
   "metadata": {
    "collapsed": false,
    "pycharm": {
     "name": "#%%\n"
    }
   }
  },
  {
   "cell_type": "code",
   "execution_count": null,
   "outputs": [],
   "source": [
    "print(\"Accuracy\")\n",
    "print(\" First model (dim2):\",\n",
    "      np.round(100*metrics.accuracy_score(y_test, y_pred2),2), '%')\n",
    "print(\" Second model (dim15):\",\n",
    "      np.round(100*metrics.accuracy_score(y_test, y_pred),2), '%')\n",
    "\n",
    "P2 = metrics.precision_score(y_test, y_pred2, pos_label=1)\n",
    "P = metrics.precision_score(y_test, y_pred, pos_label=1)\n",
    "\n",
    "print(\"Galaxy Precision\")\n",
    "print(\" First model (dim2):\", np.round(100*P2,2), '%')\n",
    "print(\" Second model (dim15):\", np.round(100*P,2), '%')\n",
    "\n",
    "\n",
    "R2 = metrics.recall_score(y_test, y_pred2, pos_label=1)\n",
    "R = metrics.recall_score(y_test, y_pred, pos_label=1)\n",
    "\n",
    "\n",
    "print(\"Galaxy Recall\")\n",
    "print(\" First model (dim2):\", np.round(100*R2,2), '%')\n",
    "print(\" Second model (dim15):\", np.round(100*R,2), '%')\n",
    "\n",
    "print(\"F-measure\")\n",
    "print(\" First model  (dim2):\", np.round(metrics.f1_score(y_test, y_pred2),3))\n",
    "print(\" Second model  (dim15):\", np.round(metrics.f1_score(y_test, y_pred),3))"
   ],
   "metadata": {
    "collapsed": false,
    "pycharm": {
     "name": "#%%\n"
    }
   }
  }
 ],
 "metadata": {
  "kernelspec": {
   "display_name": "Python 2",
   "language": "python",
   "name": "python2"
  },
  "language_info": {
   "codemirror_mode": {
    "name": "ipython",
    "version": 2
   },
   "file_extension": ".py",
   "mimetype": "text/x-python",
   "name": "python",
   "nbconvert_exporter": "python",
   "pygments_lexer": "ipython2",
   "version": "2.7.6"
  }
 },
 "nbformat": 4,
 "nbformat_minor": 0
}